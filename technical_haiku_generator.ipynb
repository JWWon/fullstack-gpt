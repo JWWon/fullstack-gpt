{
 "cells": [
  {
   "cell_type": "code",
   "execution_count": 2,
   "metadata": {},
   "outputs": [],
   "source": [
    "from langchain.chat_models import ChatOpenAI\n",
    "from langchain.callbacks import StreamingStdOutCallbackHandler\n",
    "\n",
    "chat = ChatOpenAI(model=\"gpt-3.5-turbo\", temperature=0.1, streaming=True, callbacks=[StreamingStdOutCallbackHandler()])"
   ]
  },
  {
   "cell_type": "code",
   "execution_count": 8,
   "metadata": {},
   "outputs": [],
   "source": [
    "from langchain.prompts import ChatPromptTemplate\n",
    "\n",
    "# Chain that specialized in writing Haiku about programming languages\n",
    "technical_haiku_prompt = ChatPromptTemplate.from_messages([\n",
    "  (\"system\", \"You are an expert technical haiku writer. You write haikus about programming languages. You only reply with the haiku and nothing else.\"),\n",
    "  (\"human\", \"Write a haiku about {language}\")\n",
    "])\n",
    "technical_haiku_chain = technical_haiku_prompt | chat\n",
    "\n",
    "# Chain that specialized in explaining Haiku\n",
    "haiku_narrator_prompt = ChatPromptTemplate.from_messages([\n",
    "  (\"system\", \"You are an expert haiku narrator who is proficient in technical concepts and explaining them as a haiku. Reply with haiku and the explanation after make space between them.\"),\n",
    "  (\"human\", \"{haiku}\")\n",
    "])\n",
    "haiku_narrator_chain = haiku_narrator_prompt | chat"
   ]
  },
  {
   "cell_type": "code",
   "execution_count": 9,
   "metadata": {},
   "outputs": [
    {
     "name": "stdout",
     "output_type": "stream",
     "text": [
      "Indentation rules,\n",
      "Clean syntax and readability,\n",
      "Pythonic beauty.In Python's world,\n",
      "Indentation reigns supreme,\n",
      "Code clarity thrives.\n",
      "\n",
      "In Python programming, proper indentation is crucial for defining the structure of the code. Unlike other languages that use braces or keywords to denote code blocks, Python uses indentation to determine where blocks of code begin and end. This practice not only enforces clean and readable code but also reflects the Pythonic philosophy of simplicity and beauty in coding style."
     ]
    },
    {
     "data": {
      "text/plain": [
       "AIMessageChunk(content=\"In Python's world,\\nIndentation reigns supreme,\\nCode clarity thrives.\\n\\nIn Python programming, proper indentation is crucial for defining the structure of the code. Unlike other languages that use braces or keywords to denote code blocks, Python uses indentation to determine where blocks of code begin and end. This practice not only enforces clean and readable code but also reflects the Pythonic philosophy of simplicity and beauty in coding style.\")"
      ]
     },
     "execution_count": 9,
     "metadata": {},
     "output_type": "execute_result"
    }
   ],
   "source": [
    "final_chain = {\"haiku\": technical_haiku_chain} | haiku_narrator_chain\n",
    "\n",
    "final_chain.invoke({\n",
    "  \"language\": \"Python\"\n",
    "})"
   ]
  }
 ],
 "metadata": {
  "kernelspec": {
   "display_name": "env",
   "language": "python",
   "name": "python3"
  },
  "language_info": {
   "codemirror_mode": {
    "name": "ipython",
    "version": 3
   },
   "file_extension": ".py",
   "mimetype": "text/x-python",
   "name": "python",
   "nbconvert_exporter": "python",
   "pygments_lexer": "ipython3",
   "version": "3.11.11"
  }
 },
 "nbformat": 4,
 "nbformat_minor": 2
}
