{
 "cells": [
  {
   "cell_type": "code",
   "execution_count": 7,
   "metadata": {},
   "outputs": [
    {
     "name": "stdout",
     "output_type": "stream",
     "text": [
      "The weather in -122.4194, 37.7749 is 70 degrees\n"
     ]
    }
   ],
   "source": [
    "from langchain.prompts import PromptTemplate\n",
    "from langchain_openai import ChatOpenAI\n",
    "\n",
    "def get_weather(lon: float, lat: float):\n",
    "    print(f\"The weather in {lon}, {lat} is 70 degrees\")\n",
    "\n",
    "get_weather_schema = {\n",
    "    \"name\": \"get_weather\",\n",
    "    \"description\": \"Function that takes longitude and latitude and returns the weather\",\n",
    "    \"parameters\": {\n",
    "        \"type\": \"object\",\n",
    "        \"properties\": {\n",
    "            \"lon\": {\"type\": \"number\", \"description\": \"Longitude\"},\n",
    "            \"lat\": {\"type\": \"number\", \"description\": \"Latitude\"},\n",
    "        },\n",
    "        \"required\": [\"lon\", \"lat\"],\n",
    "    }\n",
    "}\n",
    "\n",
    "llm = ChatOpenAI(model=\"gpt-4o-mini\", temperature=0).bind(\n",
    "    function_call=\"auto\",\n",
    "    functions=[\n",
    "        get_weather_schema\n",
    "    ]\n",
    ")\n",
    "\n",
    "prompt = PromptTemplate.from_template(\"What is the weather in {city}?\")\n",
    "\n",
    "chain = prompt | llm\n",
    "\n",
    "import json\n",
    "response = chain.invoke({\"city\": \"San Francisco\"}).additional_kwargs[\"function_call\"][\"arguments\"]\n",
    "\n",
    "coordinates = json.loads(response)\n",
    "get_weather(coordinates[\"lon\"], coordinates[\"lat\"])"
   ]
  }
 ],
 "metadata": {
  "kernelspec": {
   "display_name": "env",
   "language": "python",
   "name": "python3"
  },
  "language_info": {
   "codemirror_mode": {
    "name": "ipython",
    "version": 3
   },
   "file_extension": ".py",
   "mimetype": "text/x-python",
   "name": "python",
   "nbconvert_exporter": "python",
   "pygments_lexer": "ipython3",
   "version": "3.11.11"
  }
 },
 "nbformat": 4,
 "nbformat_minor": 2
}
