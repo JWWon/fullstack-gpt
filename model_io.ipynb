{
 "cells": [
  {
   "cell_type": "code",
   "execution_count": 1,
   "metadata": {},
   "outputs": [],
   "source": [
    "from langchain.chat_models.openai import ChatOpenAI\n",
    "from langchain.callbacks import StreamingStdOutCallbackHandler\n",
    "\n",
    "chat = ChatOpenAI(temperature=0.1, streaming=True, callbacks=[StreamingStdOutCallbackHandler()])"
   ]
  },
  {
   "cell_type": "code",
   "execution_count": 3,
   "metadata": {},
   "outputs": [
    {
     "name": "stdout",
     "output_type": "stream",
     "text": [
      "Director: Peter Weir\n",
      "Main cast: Jim Carrey, Laura Linney, Ed Harris, Noah Emmerich, Natascha McElhone\n",
      "Budget: $60 million\n",
      "Box office: $264.1 million\n",
      "Genre: Comedy, Drama, Sci-Fi\n",
      "Synopsis: Truman Burbank, played by Jim Carrey, is unknowingly the star of a reality TV show where his entire life is broadcast to the world. As Truman starts to uncover the truth about his artificial existence, he decides to escape the confines of his carefully orchestrated world."
     ]
    },
    {
     "data": {
      "text/plain": [
       "AIMessageChunk(content='Director: Peter Weir\\nMain cast: Jim Carrey, Laura Linney, Ed Harris, Noah Emmerich, Natascha McElhone\\nBudget: $60 million\\nBox office: $264.1 million\\nGenre: Comedy, Drama, Sci-Fi\\nSynopsis: Truman Burbank, played by Jim Carrey, is unknowingly the star of a reality TV show where his entire life is broadcast to the world. As Truman starts to uncover the truth about his artificial existence, he decides to escape the confines of his carefully orchestrated world.')"
      ]
     },
     "execution_count": 3,
     "metadata": {},
     "output_type": "execute_result"
    }
   ],
   "source": [
    "from langchain.prompts import ChatPromptTemplate, FewShotChatMessagePromptTemplate\n",
    "\n",
    "examples = [\n",
    "  {\n",
    "    \"movie\": \"The Matrix\",\n",
    "    \"output\": \"Director: The Wachowskis\\nMain cast: Keanu Reeves, Laurence Fishburne, Carrie-Anne Moss, Hugo Weaving, Joe Pantoliano, Gloria Foster\\nBudget: $63 million\\nBox office: $465.8 million\\nGenre: Action, Adventure, Sci-Fi\\nSynopsis: A computer hacker learns from mysterious rebels about the true nature of his reality and his role in the war against its controllers.\"\n",
    "  },\n",
    "  {\n",
    "    \"movie\": \"The Dark Knight\",\n",
    "    \"output\": \"Director: Christopher Nolan\\nMain cast: Christian Bale, Heath Ledger, Aaron Eckhart, Michael Caine, Maggie Gyllenhaal, Gary Oldman\\nBudget: $185 million\\nBox office: $1.004 billion\\nGenre: Action, Crime, Drama\\nSynopsis: When the menace known as the Joker wreaks havoc and chaos on the people of Gotham, Batman must accept one of the greatest psychological and physical tests of his ability to fight injustice.\"\n",
    "  },\n",
    "  {\n",
    "    \"movie\": \"The Lord of the Rings\",\n",
    "    \"output\": \"Director: Peter Jackson\\nMain cast: Elijah Wood, Ian McKellen, Orlando Bloom, Viggo Mortensen, Sean Bean, Cate Blanchett\\nBudget: $93 million\\nBox office: $1.135 billion\\nGenre: Action, Adventure, Fantasy\\nSynopsis: A meek Hobbit from the Shire and eight companions set out on a journey to destroy the powerful One Ring and save Middle-earth from the Dark Lord Sauron.\"\n",
    "  },\n",
    "  {\n",
    "    \"movie\": \"The Hobbit\",\n",
    "    \"output\": \"Director: Peter Jackson\\nMain cast: Elijah Wood, Ian McKellen, Orlando Bloom, Viggo Mortensen, Sean Bean, Cate Blanchett\\nBudget: $93 million\\nBox office: $1.135 billion\\nGenre: Action, Adventure, Fantasy\\nSynopsis: A meek Hobbit from the Shire and eight companions set out on a journey to destroy the powerful One Ring and save Middle-earth from the Dark Lord Sauron.\"\n",
    "  },\n",
    "  {\n",
    "    \"movie\": \"Avengers: Endgame\",\n",
    "    \"output\": \"Director: Anthony Russo, Joe Russo\\nMain cast: Robert Downey Jr., Chris Evans, Mark Ruffalo, Chris Hemsworth, Scarlett Johansson, Jeremy Renner\\nBudget: $356 million\\nBox office: $2.797 billion\\nGenre: Action, Adventure, Sci-Fi\\nSynopsis: After the devastating events of Avengers: Infinity War (2018), the universe is in ruins. With the help of remaining allies, the Avengers assemble once more in order to reverse Thanos' actions and restore balance to the universe.\"\n",
    "  }\n",
    "]\n",
    "\n",
    "example_prompt = ChatPromptTemplate.from_messages([\n",
    "  (\"human\", \"Tell me about {movie}\"),\n",
    "  (\"ai\", \"{output}\")\n",
    "])\n",
    "\n",
    "prompt = FewShotChatMessagePromptTemplate(\n",
    "  examples=examples,\n",
    "  example_prompt=example_prompt\n",
    ")\n",
    "\n",
    "final_prompt = ChatPromptTemplate.from_messages([\n",
    "  (\"system\", \"You are a helpful assistant that can answer questions about movies.\"),\n",
    "  prompt,\n",
    "  (\"human\", \"Tell me about {movie}\"),\n",
    "])\n",
    "\n",
    "chain = final_prompt | chat\n",
    "\n",
    "chain.invoke({\"movie\": \"Truman Show\"})"
   ]
  }
 ],
 "metadata": {
  "kernelspec": {
   "display_name": "env",
   "language": "python",
   "name": "python3"
  },
  "language_info": {
   "codemirror_mode": {
    "name": "ipython",
    "version": 3
   },
   "file_extension": ".py",
   "mimetype": "text/x-python",
   "name": "python",
   "nbconvert_exporter": "python",
   "pygments_lexer": "ipython3",
   "version": "3.11.11"
  }
 },
 "nbformat": 4,
 "nbformat_minor": 2
}
