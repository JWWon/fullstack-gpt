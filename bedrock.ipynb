{
 "cells": [
  {
   "cell_type": "code",
   "execution_count": 21,
   "metadata": {},
   "outputs": [],
   "source": [
    "from langchain_aws.chat_models import ChatBedrock\n",
    "\n",
    "llm = ChatBedrock(\n",
    "    model_id=\"arn:aws:bedrock:us-east-1:339713085711:inference-profile/us.anthropic.claude-3-5-haiku-20241022-v1:0\",\n",
    "    provider=\"anthropic\",\n",
    "    beta_use_converse_api=True,\n",
    "    region_name=\"us-east-1\",\n",
    "    temperature=0\n",
    ")"
   ]
  },
  {
   "cell_type": "code",
   "execution_count": 23,
   "metadata": {},
   "outputs": [
    {
     "data": {
      "text/plain": [
       "AIMessage(content='Here\\'s the translation:\\n\\n나는 프로그래밍을 사랑해요.\\n\\nPronunciation: \"Naneun peurogeuraeming-eul saranghaeyo.\"\\n\\nBreakdown:\\n- 나는 (naneun) = I\\n- 프로그래밍 (peurogeuraeming) = programming\\n- 을 (eul) = object marker\\n- 사랑해요 (saranghaeyo) = love', additional_kwargs={}, response_metadata={'ResponseMetadata': {'RequestId': '135f7c6b-b1b2-4eae-976f-53ed1568efa1', 'HTTPStatusCode': 200, 'HTTPHeaders': {'date': 'Tue, 31 Dec 2024 08:07:53 GMT', 'content-type': 'application/json', 'content-length': '466', 'connection': 'keep-alive', 'x-amzn-requestid': '135f7c6b-b1b2-4eae-976f-53ed1568efa1'}, 'RetryAttempts': 0}, 'stopReason': 'end_turn', 'metrics': {'latencyMs': [2472]}}, id='run-0a23c5a2-335f-4d28-b9c8-b12eee5a4dae-0', usage_metadata={'input_tokens': 20, 'output_tokens': 118, 'total_tokens': 138})"
      ]
     },
     "execution_count": 23,
     "metadata": {},
     "output_type": "execute_result"
    }
   ],
   "source": [
    "from langchain_core.prompts import ChatPromptTemplate\n",
    "\n",
    "prompt = ChatPromptTemplate.from_messages([\n",
    "    (\"user\", \"Translate this sentence from {lang_a} to {lang_b}: {sentence}\")\n",
    "])\n",
    "\n",
    "chain = prompt | llm\n",
    "\n",
    "chain.invoke({\"lang_a\": \"English\", \"lang_b\": \"Korean\", \"sentence\": \"I love programming.\"})"
   ]
  }
 ],
 "metadata": {
  "kernelspec": {
   "display_name": "env",
   "language": "python",
   "name": "python3"
  },
  "language_info": {
   "codemirror_mode": {
    "name": "ipython",
    "version": 3
   },
   "file_extension": ".py",
   "mimetype": "text/x-python",
   "name": "python",
   "nbconvert_exporter": "python",
   "pygments_lexer": "ipython3",
   "version": "3.11.11"
  }
 },
 "nbformat": 4,
 "nbformat_minor": 2
}
