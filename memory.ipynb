{
 "cells": [
  {
   "cell_type": "code",
   "execution_count": 1,
   "metadata": {},
   "outputs": [],
   "source": [
    "from langchain.memory import ConversationSummaryBufferMemory\n",
    "from langchain.chat_models import ChatOpenAI\n",
    "from langchain.prompts import FewShotChatMessagePromptTemplate, ChatPromptTemplate, MessagesPlaceholder\n",
    "\n",
    "chat = ChatOpenAI(model=\"gpt-3.5-turbo\", temperature=0.1)\n",
    "\n",
    "movie_few_shot_prompt = FewShotChatMessagePromptTemplate(\n",
    "  example_prompt=ChatPromptTemplate.from_messages([\n",
    "    (\"human\", \"Name of the movie is {movie}\"),\n",
    "    (\"ai\", \"Here are 3 emojis that describe the movie: {emojis}\")\n",
    "  ]),\n",
    "  examples=[\n",
    "    {\"movie\": \"The Matrix\", \"emojis\": \"🎥🤖🌀\"},\n",
    "    {\"movie\": \"Top Gun\", \"emojis\": \"🛩️💥🔥\"},\n",
    "    {\"movie\": \"The Godfather\", \"emojis\": \"👨‍👨‍👦🔫🍝\"}\n",
    "  ]\n",
    ")\n",
    "\n",
    "movie_prompt = ChatPromptTemplate.from_messages([\n",
    "  (\"system\", \"You are a helpful assistant who summarizes the movie into 3 emojis.\"),\n",
    "  movie_few_shot_prompt,\n",
    "  (\"human\", \"Name of the movie is {movie}\")\n",
    "])\n",
    "\n",
    "movie_chain = movie_prompt | chat\n",
    "\n",
    "memory = ConversationSummaryBufferMemory(\n",
    "  llm=chat, \n",
    "  max_token_limit=120,\n",
    "  memory_key=\"history\",\n",
    "  return_messages=True\n",
    ")\n",
    "\n",
    "def invoke_movie_chain(movie):\n",
    "  result = movie_chain.invoke({ \"movie\": movie })\n",
    "  memory.save_context({\"input\": movie}, {\"output\": result.content})"
   ]
  },
  {
   "cell_type": "code",
   "execution_count": 2,
   "metadata": {},
   "outputs": [
    {
     "data": {
      "text/plain": [
       "[HumanMessage(content='Oldboy'),\n",
       " AIMessage(content='Here are 3 emojis that describe the movie: 🔄🔪🤯'),\n",
       " HumanMessage(content='The Social Network'),\n",
       " AIMessage(content='Here are 3 emojis that describe the movie: 💻💰👥'),\n",
       " HumanMessage(content='Avatar'),\n",
       " AIMessage(content='Here are 3 emojis that describe the movie: 🌿🌌💙')]"
      ]
     },
     "execution_count": 2,
     "metadata": {},
     "output_type": "execute_result"
    }
   ],
   "source": [
    "invoke_movie_chain(\"Oldboy\")\n",
    "invoke_movie_chain(\"The Social Network\")\n",
    "invoke_movie_chain(\"Avatar\")\n",
    "memory.load_memory_variables({})[\"history\"]"
   ]
  },
  {
   "cell_type": "code",
   "execution_count": 4,
   "metadata": {},
   "outputs": [
    {
     "data": {
      "text/plain": [
       "AIMessage(content='The name of the movie you asked about first is \"Oldboy.\"')"
      ]
     },
     "execution_count": 4,
     "metadata": {},
     "output_type": "execute_result"
    }
   ],
   "source": [
    "from langchain.schema.runnable import RunnablePassthrough\n",
    "\n",
    "assistant_prompt = ChatPromptTemplate.from_messages([\n",
    "  (\"system\", \"You are a helpful assistant answers to questions about movies.\"),\n",
    "  MessagesPlaceholder(variable_name=\"history\"),\n",
    "  (\"human\", \"{question}\")\n",
    "])\n",
    "\n",
    "def load_memory(input):\n",
    "  return memory.load_memory_variables({})[\"history\"]\n",
    "\n",
    "assistant_chain = RunnablePassthrough.assign(history=load_memory) | assistant_prompt | chat\n",
    "\n",
    "assistant_chain.invoke({ \"question\": \"What is the name of the movie that I asked first?\"})\n"
   ]
  }
 ],
 "metadata": {
  "kernelspec": {
   "display_name": "env",
   "language": "python",
   "name": "python3"
  },
  "language_info": {
   "codemirror_mode": {
    "name": "ipython",
    "version": 3
   },
   "file_extension": ".py",
   "mimetype": "text/x-python",
   "name": "python",
   "nbconvert_exporter": "python",
   "pygments_lexer": "ipython3",
   "version": "3.11.11"
  }
 },
 "nbformat": 4,
 "nbformat_minor": 2
}
